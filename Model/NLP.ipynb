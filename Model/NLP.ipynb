{
 "cells": [
  {
   "cell_type": "code",
   "execution_count": 1,
   "id": "1348ff9e-88db-4bbd-935a-8a37237c671b",
   "metadata": {},
   "outputs": [
    {
     "name": "stdout",
     "output_type": "stream",
     "text": [
      "Requirement already satisfied: transformers in c:\\users\\acer\\appdata\\local\\programs\\python\\python310\\lib\\site-packages (4.48.3)\n",
      "Requirement already satisfied: pythainlp in c:\\users\\acer\\appdata\\local\\programs\\python\\python310\\lib\\site-packages (5.0.5)\n",
      "Requirement already satisfied: torch in c:\\users\\acer\\appdata\\local\\programs\\python\\python310\\lib\\site-packages (2.6.0)\n",
      "Requirement already satisfied: filelock in c:\\users\\acer\\appdata\\local\\programs\\python\\python310\\lib\\site-packages (from transformers) (3.17.0)\n",
      "Requirement already satisfied: huggingface-hub<1.0,>=0.24.0 in c:\\users\\acer\\appdata\\local\\programs\\python\\python310\\lib\\site-packages (from transformers) (0.28.1)\n",
      "Requirement already satisfied: numpy>=1.17 in c:\\users\\acer\\appdata\\local\\programs\\python\\python310\\lib\\site-packages (from transformers) (1.26.4)\n",
      "Requirement already satisfied: packaging>=20.0 in c:\\users\\acer\\appdata\\local\\programs\\python\\python310\\lib\\site-packages (from transformers) (23.2)\n",
      "Requirement already satisfied: pyyaml>=5.1 in c:\\users\\acer\\appdata\\local\\programs\\python\\python310\\lib\\site-packages (from transformers) (6.0.2)\n",
      "Requirement already satisfied: regex!=2019.12.17 in c:\\users\\acer\\appdata\\local\\programs\\python\\python310\\lib\\site-packages (from transformers) (2024.11.6)\n",
      "Requirement already satisfied: requests in c:\\users\\acer\\appdata\\local\\programs\\python\\python310\\lib\\site-packages (from transformers) (2.32.3)\n",
      "Requirement already satisfied: tokenizers<0.22,>=0.21 in c:\\users\\acer\\appdata\\local\\programs\\python\\python310\\lib\\site-packages (from transformers) (0.21.0)\n",
      "Requirement already satisfied: safetensors>=0.4.1 in c:\\users\\acer\\appdata\\local\\programs\\python\\python310\\lib\\site-packages (from transformers) (0.5.2)\n",
      "Requirement already satisfied: tqdm>=4.27 in c:\\users\\acer\\appdata\\local\\programs\\python\\python310\\lib\\site-packages (from transformers) (4.67.1)\n",
      "Requirement already satisfied: tzdata in c:\\users\\acer\\appdata\\local\\programs\\python\\python310\\lib\\site-packages (from pythainlp) (2024.1)\n",
      "Requirement already satisfied: typing-extensions>=4.10.0 in c:\\users\\acer\\appdata\\local\\programs\\python\\python310\\lib\\site-packages (from torch) (4.12.2)\n",
      "Requirement already satisfied: networkx in c:\\users\\acer\\appdata\\local\\programs\\python\\python310\\lib\\site-packages (from torch) (3.4.2)\n",
      "Requirement already satisfied: jinja2 in c:\\users\\acer\\appdata\\local\\programs\\python\\python310\\lib\\site-packages (from torch) (3.1.5)\n",
      "Requirement already satisfied: fsspec in c:\\users\\acer\\appdata\\local\\programs\\python\\python310\\lib\\site-packages (from torch) (2025.2.0)\n",
      "Requirement already satisfied: sympy==1.13.1 in c:\\users\\acer\\appdata\\local\\programs\\python\\python310\\lib\\site-packages (from torch) (1.13.1)\n",
      "Requirement already satisfied: mpmath<1.4,>=1.1.0 in c:\\users\\acer\\appdata\\local\\programs\\python\\python310\\lib\\site-packages (from sympy==1.13.1->torch) (1.3.0)\n",
      "Requirement already satisfied: charset-normalizer<4,>=2 in c:\\users\\acer\\appdata\\local\\programs\\python\\python310\\lib\\site-packages (from requests->transformers) (3.4.1)\n",
      "Requirement already satisfied: idna<4,>=2.5 in c:\\users\\acer\\appdata\\local\\programs\\python\\python310\\lib\\site-packages (from requests->transformers) (3.10)\n",
      "Requirement already satisfied: urllib3<3,>=1.21.1 in c:\\users\\acer\\appdata\\local\\programs\\python\\python310\\lib\\site-packages (from requests->transformers) (2.3.0)\n",
      "Requirement already satisfied: certifi>=2017.4.17 in c:\\users\\acer\\appdata\\local\\programs\\python\\python310\\lib\\site-packages (from requests->transformers) (2025.1.31)\n",
      "Requirement already satisfied: colorama in c:\\users\\acer\\appdata\\local\\programs\\python\\python310\\lib\\site-packages (from tqdm>=4.27->transformers) (0.4.6)\n",
      "Requirement already satisfied: MarkupSafe>=2.0 in c:\\users\\acer\\appdata\\local\\programs\\python\\python310\\lib\\site-packages (from jinja2->torch) (3.0.2)\n",
      "Note: you may need to restart the kernel to use updated packages.\n"
     ]
    },
    {
     "name": "stderr",
     "output_type": "stream",
     "text": [
      "\n",
      "[notice] A new release of pip is available: 25.0 -> 25.0.1\n",
      "[notice] To update, run: python.exe -m pip install --upgrade pip\n"
     ]
    }
   ],
   "source": [
    "pip install transformers pythainlp torch"
   ]
  },
  {
   "cell_type": "code",
   "execution_count": 2,
   "id": "7d7d74d5-28eb-40a1-8fc0-687ed0e2df98",
   "metadata": {},
   "outputs": [
    {
     "name": "stdout",
     "output_type": "stream",
     "text": [
      "Requirement already satisfied: fuzzywuzzy[speedup] in c:\\users\\acer\\appdata\\local\\programs\\python\\python310\\lib\\site-packages (0.18.0)\n",
      "Requirement already satisfied: python-levenshtein>=0.12 in c:\\users\\acer\\appdata\\local\\programs\\python\\python310\\lib\\site-packages (from fuzzywuzzy[speedup]) (0.26.1)\n",
      "Requirement already satisfied: Levenshtein==0.26.1 in c:\\users\\acer\\appdata\\local\\programs\\python\\python310\\lib\\site-packages (from python-levenshtein>=0.12->fuzzywuzzy[speedup]) (0.26.1)\n",
      "Requirement already satisfied: rapidfuzz<4.0.0,>=3.9.0 in c:\\users\\acer\\appdata\\local\\programs\\python\\python310\\lib\\site-packages (from Levenshtein==0.26.1->python-levenshtein>=0.12->fuzzywuzzy[speedup]) (3.12.1)\n",
      "Note: you may need to restart the kernel to use updated packages.\n"
     ]
    },
    {
     "name": "stderr",
     "output_type": "stream",
     "text": [
      "\n",
      "[notice] A new release of pip is available: 25.0 -> 25.0.1\n",
      "[notice] To update, run: python.exe -m pip install --upgrade pip\n"
     ]
    }
   ],
   "source": [
    "pip install fuzzywuzzy[speedup]"
   ]
  },
  {
   "cell_type": "code",
   "execution_count": 3,
   "id": "3322fab9-a39b-46e2-a1eb-e0dce2366f07",
   "metadata": {},
   "outputs": [],
   "source": [
    "import os\n",
    "os.environ[\"HF_HUB_DISABLE_SYMLINKS_WARNING\"] = \"1\""
   ]
  },
  {
   "cell_type": "code",
   "execution_count": 4,
   "id": "f207da19-3f73-46e3-a0d8-36c34c07a5ed",
   "metadata": {},
   "outputs": [
    {
     "data": {
      "application/vnd.jupyter.widget-view+json": {
       "model_id": "de3853bb2c804a478a7b1a30dd7f08ae",
       "version_major": 2,
       "version_minor": 0
      },
      "text/plain": [
       "  0%|          | 0/10 [00:00<?, ?it/s]"
      ]
     },
     "metadata": {},
     "output_type": "display_data"
    }
   ],
   "source": [
    "from tqdm.notebook import tqdm\n",
    "import time\n",
    "\n",
    "# ตัวอย่าง Progress Bar\n",
    "for i in tqdm(range(10)):\n",
    "    time.sleep(0.5)"
   ]
  },
  {
   "cell_type": "code",
   "execution_count": 5,
   "id": "2c96a727-7764-4e91-86e6-bab719ac1f50",
   "metadata": {},
   "outputs": [
    {
     "data": {
      "application/vnd.jupyter.widget-view+json": {
       "model_id": "438db84b62fb40b68ca131a934a1056c",
       "version_major": 2,
       "version_minor": 0
      },
      "text/plain": [
       "tokenizer_config.json:   0%|          | 0.00/282 [00:00<?, ?B/s]"
      ]
     },
     "metadata": {},
     "output_type": "display_data"
    },
    {
     "data": {
      "application/vnd.jupyter.widget-view+json": {
       "model_id": "8d38d626bd29452a8b78d5256839b688",
       "version_major": 2,
       "version_minor": 0
      },
      "text/plain": [
       "config.json:   0%|          | 0.00/546 [00:00<?, ?B/s]"
      ]
     },
     "metadata": {},
     "output_type": "display_data"
    },
    {
     "data": {
      "application/vnd.jupyter.widget-view+json": {
       "model_id": "8537e4fbea2b485fbe565868ec1b81a5",
       "version_major": 2,
       "version_minor": 0
      },
      "text/plain": [
       "sentencepiece.bpe.model:   0%|          | 0.00/905k [00:00<?, ?B/s]"
      ]
     },
     "metadata": {},
     "output_type": "display_data"
    },
    {
     "data": {
      "application/vnd.jupyter.widget-view+json": {
       "model_id": "dd799535e1674713baf53ec4f2ebd1da",
       "version_major": 2,
       "version_minor": 0
      },
      "text/plain": [
       "model.safetensors:   0%|          | 0.00/423M [00:00<?, ?B/s]"
      ]
     },
     "metadata": {},
     "output_type": "display_data"
    },
    {
     "name": "stderr",
     "output_type": "stream",
     "text": [
      "Some weights of CamembertForTokenClassification were not initialized from the model checkpoint at airesearch/wangchanberta-base-att-spm-uncased and are newly initialized: ['classifier.bias', 'classifier.weight']\n",
      "You should probably TRAIN this model on a down-stream task to be able to use it for predictions and inference.\n",
      "Device set to use cpu\n"
     ]
    }
   ],
   "source": [
    "from transformers import AutoTokenizer, AutoModelForTokenClassification, pipeline\n",
    "\n",
    "# โหลด tokenizer และโมเดล WangchanBERTa ที่ปรับใช้กับภาษาไทย\n",
    "tokenizer = AutoTokenizer.from_pretrained(\"airesearch/wangchanberta-base-att-spm-uncased\", use_fast=False)\n",
    "model = AutoModelForTokenClassification.from_pretrained(\"airesearch/wangchanberta-base-att-spm-uncased\")\n",
    "\n",
    "# สร้าง NER pipeline\n",
    "ner_pipeline = pipeline(\"ner\", model=model, tokenizer=tokenizer, aggregation_strategy=\"simple\")"
   ]
  },
  {
   "cell_type": "code",
   "execution_count": 6,
   "id": "52f37c94-1182-4b72-bc85-7be4ff6511cb",
   "metadata": {},
   "outputs": [
    {
     "name": "stdout",
     "output_type": "stream",
     "text": [
      "คำที่ตัดได้จากข้อความ: ['น้ำ', 'ลำไย', '4', 'น้ำ', 'แตงโม', '1', 'กาแฟ', '1']\n",
      "Bag of Words ที่สร้างได้: ['น้ำ', 'ลำไย', '4', 'น้ำ', 'แตงโม', '1', 'กาแฟ', '1', 'น้ำลำไย', 'ลำไย4', '4น้ำ', 'น้ำแตงโม', 'แตงโม1', '1กาแฟ', 'กาแฟ1', 'น้ำลำไย4', 'ลำไย4น้ำ', '4น้ำแตงโม', 'น้ำแตงโม1', 'แตงโม1กาแฟ', '1กาแฟ1']\n",
      "คำสั่งซื้อ: [{'menu': 'น้ำแตงโม', 'quantity': 1}, {'menu': 'น้ำลำไย', 'quantity': 4}, {'menu': 'กาแฟเย็น', 'quantity': 1}]\n"
     ]
    }
   ],
   "source": [
    "import re\n",
    "from pythainlp.util import normalize\n",
    "from pythainlp.tokenize import word_tokenize\n",
    "from fuzzywuzzy import fuzz\n",
    "\n",
    "# ฐานข้อมูลสินค้า (DB ตัวอย่าง)\n",
    "menu_db = [\"น้ำแตงโม\", \"น้ำลำไย\", \"ชาเย็น\", \"กาแฟเย็น\"]\n",
    "\n",
    "def generate_bag_of_words(words, n=3):\n",
    "    # สร้าง Bag of Words โดยการรวมคำต่อเนื่อง (1 ถึง n คำ)\n",
    "    bag = []\n",
    "    for size in range(1, n + 1):  # เริ่มตั้งแต่ 1-gram ถึง n-gram\n",
    "        for i in range(len(words) - size + 1):\n",
    "            bag.append(''.join(words[i:i + size]).strip())\n",
    "    return bag\n",
    "\n",
    "def find_best_match(word, menu_db, threshold=80):\n",
    "    best_match = None\n",
    "    highest_score = 0\n",
    "    \n",
    "    for menu in menu_db:\n",
    "        score = fuzz.partial_ratio(normalize(word), normalize(menu))\n",
    "        if score > highest_score and score >= threshold:\n",
    "            best_match = menu\n",
    "            highest_score = score\n",
    "    \n",
    "    return best_match\n",
    "\n",
    "def extract_orders_with_bagword(text):\n",
    "    orders = []\n",
    "    used_indices = set()  # เก็บคำที่ใช้ไปแล้วเพื่อลดการตรวจจับซ้ำ\n",
    "    detected_menus = set()  # เก็บเมนูที่ตรวจจับได้แล้วเพื่อป้องกันซ้ำ\n",
    "\n",
    "    # Normalize ข้อความและตัดคำ\n",
    "    text = normalize(text.strip())\n",
    "    text = re.sub(r'\\s+', ' ', text)  # ลบช่องว่างเกิน\n",
    "    words = [w for w in word_tokenize(text) if w.strip()]  # กำจัดช่องว่างที่ไม่จำเป็น\n",
    "    print(\"คำที่ตัดได้จากข้อความ:\", words)\n",
    "\n",
    "    # สร้าง Bag of Words\n",
    "    bag_of_words = generate_bag_of_words(words)\n",
    "    print(\"Bag of Words ที่สร้างได้:\", bag_of_words)\n",
    "\n",
    "    # ตรวจหาเมนูและจำนวนโดยใช้ Bag of Words\n",
    "    for i, word in enumerate(bag_of_words):\n",
    "        if i in used_indices:  # ถ้าคำนี้ถูกใช้แล้วให้ข้ามไป\n",
    "            continue\n",
    "\n",
    "        for menu in menu_db:\n",
    "            # ตรวจจับคำที่เหมือนในระดับ 90% ขึ้นไป หรือใช้การเทียบ fuzzy\n",
    "            if fuzz.ratio(normalize(menu), normalize(word)) >= 90 or find_best_match(word, menu_db):\n",
    "                # ถ้าพบว่าเมนูนี้เคยเพิ่มไปแล้ว ให้ข้าม\n",
    "                best_match = find_best_match(word, menu_db)\n",
    "                if best_match and best_match in detected_menus:\n",
    "                    continue\n",
    "\n",
    "                # ตรวจสอบจำนวนที่ตามมา (ถ้ามี)\n",
    "                quantity = 1\n",
    "                if i + 1 < len(words) and words[i + 1].isdigit():\n",
    "                    quantity = int(words[i + 1])\n",
    "                    used_indices.add(i + 1)  # ข้ามจำนวนที่ใช้แล้ว\n",
    "                \n",
    "                orders.append({\"menu\": best_match if best_match else menu, \"quantity\": quantity})\n",
    "                detected_menus.add(best_match if best_match else menu)  # เพิ่มเมนูนี้ในเซตเพื่อป้องกันการเพิ่มซ้ำ\n",
    "                \n",
    "                # ข้ามคำใน bag ที่เกี่ยวข้องทั้งหมด\n",
    "                used_indices.update(range(i, i + len(menu.split())))\n",
    "                break\n",
    "\n",
    "    return orders\n",
    "\n",
    "# ทดสอบด้วยข้อความ\n",
    "text = \"น้ำลำไย 4 น้ำแตงโม 1 กาแฟ 1 \"\n",
    "orders = extract_orders_with_bagword(text)\n",
    "print(\"คำสั่งซื้อ:\", orders)\n"
   ]
  },
  {
   "cell_type": "code",
   "execution_count": null,
   "id": "eae8c902-7ad3-40ed-89e9-4611e5e485ec",
   "metadata": {},
   "outputs": [],
   "source": []
  },
  {
   "cell_type": "code",
   "execution_count": null,
   "id": "a424c860-488b-4c61-9df8-4f09bcf50f24",
   "metadata": {},
   "outputs": [],
   "source": []
  }
 ],
 "metadata": {
  "kernelspec": {
   "display_name": "Python 3 (ipykernel)",
   "language": "python",
   "name": "python3"
  },
  "language_info": {
   "codemirror_mode": {
    "name": "ipython",
    "version": 3
   },
   "file_extension": ".py",
   "mimetype": "text/x-python",
   "name": "python",
   "nbconvert_exporter": "python",
   "pygments_lexer": "ipython3",
   "version": "3.10.4"
  }
 },
 "nbformat": 4,
 "nbformat_minor": 5
}
